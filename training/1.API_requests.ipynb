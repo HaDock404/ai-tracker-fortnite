{
 "cells": [
  {
   "cell_type": "code",
   "execution_count": 41,
   "metadata": {},
   "outputs": [],
   "source": [
    "import os\n",
    "import requests\n",
    "from dotenv import load_dotenv\n",
    "import json"
   ]
  },
  {
   "cell_type": "code",
   "execution_count": 42,
   "metadata": {},
   "outputs": [],
   "source": [
    "load_dotenv()\n",
    "api_key = os.getenv(\"API_KEY\")\n",
    "\n",
    "headers = {\n",
    "    \"Authorization\": f\"{api_key}\"\n",
    "}"
   ]
  },
  {
   "cell_type": "code",
   "execution_count": 43,
   "metadata": {},
   "outputs": [],
   "source": [
    "player_name = \"JWMuller666\"\n",
    "url = f\"https://fortniteapi.io/v1/lookup?username={player_name}\""
   ]
  },
  {
   "cell_type": "code",
   "execution_count": 44,
   "metadata": {},
   "outputs": [],
   "source": [
    "response = requests.get(url, headers=headers)\n",
    "\n",
    "if response.status_code == 200:\n",
    "    user_data_id = response.json()"
   ]
  },
  {
   "cell_type": "code",
   "execution_count": 45,
   "metadata": {},
   "outputs": [],
   "source": [
    "player_account = user_data_id['account_id']\n",
    "url = f\"https://fortniteapi.io/v1/stats?account={player_account}\""
   ]
  },
  {
   "cell_type": "code",
   "execution_count": 46,
   "metadata": {},
   "outputs": [
    {
     "name": "stdout",
     "output_type": "stream",
     "text": [
      "Données utilisateur récupérées :\n",
      "{'result': True, 'name': 'JWMuller666', 'account': {'season': 31, 'level': 35, 'process_pct': 57}, 'accountLevelHistory': [{'season': 11, 'level': 31, 'process_pct': 71}, {'season': 13, 'level': 86, 'process_pct': 26}, {'season': 14, 'level': 151, 'process_pct': 83}, {'season': 15, 'level': 145, 'process_pct': 62}, {'season': 16, 'level': 183, 'process_pct': 4}, {'season': 17, 'level': 207, 'process_pct': 88}, {'season': 18, 'level': 229, 'process_pct': 17}, {'season': 19, 'level': 208, 'process_pct': 97}, {'season': 20, 'level': 200, 'process_pct': 59}, {'season': 21, 'level': 161, 'process_pct': 70}, {'season': 22, 'level': 143, 'process_pct': 52}, {'season': 23, 'level': 157, 'process_pct': 22}, {'season': 24, 'level': 218, 'process_pct': 96}, {'season': 25, 'level': 146, 'process_pct': 37}, {'season': 26, 'level': 150, 'process_pct': 81}, {'season': 27, 'level': 116, 'process_pct': 75}, {'season': 28, 'level': 198, 'process_pct': 11}, {'season': 29, 'level': 222, 'process_pct': 41}, {'season': 30, 'level': 257, 'process_pct': 77}, {'season': 31, 'level': 35, 'process_pct': 57}], 'global_stats': {'duo': {'placetop1': 64, 'kd': 2.12, 'winrate': 0.06, 'placetop3': 0, 'placetop5': 253, 'placetop6': 0, 'placetop10': 0, 'placetop12': 469, 'placetop25': 0, 'kills': 2101, 'matchesplayed': 1055, 'minutesplayed': 9489, 'score': 232752, 'playersoutlived': 60450, 'lastmodified': 1722589075}, 'squad': {'placetop1': 30, 'kd': 2.05, 'winrate': 0.08, 'placetop3': 67, 'placetop5': 0, 'placetop6': 113, 'placetop10': 0, 'placetop12': 0, 'placetop25': 0, 'kills': 714, 'matchesplayed': 378, 'minutesplayed': 2953, 'score': 75961, 'playersoutlived': 17008, 'lastmodified': 1724016638}, 'solo': {'placetop1': 242, 'kd': 1.6, 'winrate': 0.03, 'placetop3': 0, 'placetop5': 0, 'placetop6': 0, 'placetop10': 1960, 'placetop12': 0, 'placetop25': 3486, 'kills': 12271, 'matchesplayed': 7920, 'minutesplayed': 67279, 'score': 1690746, 'playersoutlived': 466004, 'lastmodified': 1724062978}, 'trio': {'placetop1': 8, 'kd': 6.9, 'winrate': 0.21, 'placetop3': 19, 'placetop5': 0, 'placetop6': 26, 'placetop10': 0, 'placetop12': 0, 'placetop25': 0, 'kills': 214, 'matchesplayed': 39, 'minutesplayed': 547, 'score': 14639, 'playersoutlived': 2915, 'lastmodified': 1703766500}}, 'per_input': {'gamepad': {'duo': {'placetop1': 64, 'kd': 2.12, 'winrate': 0.06, 'placetop3': 0, 'placetop5': 253, 'placetop6': 0, 'placetop10': 0, 'placetop12': 469, 'placetop25': 0, 'kills': 2101, 'matchesplayed': 1055, 'minutesplayed': 9489, 'score': 232752, 'playersoutlived': 60450, 'lastmodified': 1722589075}, 'squad': {'placetop1': 30, 'kd': 2.05, 'winrate': 0.08, 'placetop3': 67, 'placetop5': 0, 'placetop6': 113, 'placetop10': 0, 'placetop12': 0, 'placetop25': 0, 'kills': 714, 'matchesplayed': 378, 'minutesplayed': 2953, 'score': 75961, 'playersoutlived': 17008, 'lastmodified': 1724016638}, 'solo': {'placetop1': 242, 'kd': 1.6, 'winrate': 0.03, 'placetop3': 0, 'placetop5': 0, 'placetop6': 0, 'placetop10': 1960, 'placetop12': 0, 'placetop25': 3486, 'kills': 12271, 'matchesplayed': 7920, 'minutesplayed': 67279, 'score': 1690746, 'playersoutlived': 466004, 'lastmodified': 1724062978}, 'trio': {'placetop1': 8, 'kd': 6.9, 'winrate': 0.21, 'placetop3': 19, 'placetop5': 0, 'placetop6': 26, 'placetop10': 0, 'placetop12': 0, 'placetop25': 0, 'kills': 214, 'matchesplayed': 39, 'minutesplayed': 547, 'score': 14639, 'playersoutlived': 2915, 'lastmodified': 1703766500}}}, 'seasons_available': [31]}\n"
     ]
    }
   ],
   "source": [
    "response = requests.get(url, headers=headers)\n",
    "\n",
    "if response.status_code == 200:\n",
    "    user_data = response.json()\n",
    "    output_file = \"user_data.json\"\n",
    "    with open(output_file, 'w', encoding='utf-8') as f:\n",
    "        json.dump(user_data, f, indent=4, ensure_ascii=False)\n",
    "    print(\"Données utilisateur récupérées :\")\n",
    "    print(user_data)\n",
    "else:\n",
    "    print(f\"Échec de la requête. Statut: {response.status_code}\")"
   ]
  },
  {
   "cell_type": "code",
   "execution_count": null,
   "metadata": {},
   "outputs": [],
   "source": []
  }
 ],
 "metadata": {
  "kernelspec": {
   "display_name": "ai-tracker",
   "language": "python",
   "name": "python3"
  },
  "language_info": {
   "codemirror_mode": {
    "name": "ipython",
    "version": 3
   },
   "file_extension": ".py",
   "mimetype": "text/x-python",
   "name": "python",
   "nbconvert_exporter": "python",
   "pygments_lexer": "ipython3",
   "version": "3.10.9"
  }
 },
 "nbformat": 4,
 "nbformat_minor": 2
}
